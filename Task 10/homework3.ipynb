{
 "cells": [
  {
   "cell_type": "markdown",
   "metadata": {},
   "source": [
    "### Problem\n",
    "\n",
    "Numpy arrays may be used to some image processing. Here we try something cryptography-like.\n",
    "Steganography, in general, is the practice to place some hidden data in the front layer of data.\n",
    "\n",
    "#### 1) Here, we put some encoded string into an image. The goal of this task is to decrypt and print the message.\n",
    "Below, you can find some example of image processing. `redflower.bmp` is only in shades of red. If you zoom into `crypto.bmp` - top left corner - you can find some flaw in a picture. That is a place, where hidden message is encoded. To simplify decryption - all data is stored in one color layer. This is a text information. Encryption simply translates character (j=str[i]) into ASCII code (k=ord(j)). Therefore, decryption simply should find non-zero values in non-red layer and decrypt them from ASCII to string (chr(k)).\n",
    "\n",
    "HINT: Here are the coordinates, if you don't want to search for non-zero data. To make the encoding effect more visible information is stored in the 8th-position in first dimension (table[7][][]). To guess last dimension solve => violet = red + ? (in RGB we have red,green,blue layers). Or simply print the numpy array:\n",
    "\n",
    "```imtam = plt.imread('crypto.bmp')\n",
    "       imtab\n",
    "```\n",
    "\n",
    "#### 2) Write your own encription function. Could be the one described above.\n"
   ]
  },
  {
   "cell_type": "code",
   "execution_count": 38,
   "metadata": {},
   "outputs": [
    {
     "name": "stdout",
     "output_type": "stream",
     "text": [
      "Congratulations !!! Got it! \n",
      "This is a hidden message :)\n"
     ]
    }
   ],
   "source": [
    "from PIL import Image\n",
    "import numpy as np\n",
    "\n",
    "# make red flower\n",
    "def makered():\n",
    "    i = Image.open('flower.jpg')\n",
    "    dim = np.zeros((i.size[1], i.size[0]), 'int8')\n",
    "    \n",
    "    img_zero = Image.fromarray(dim, 'L')\n",
    "    img = Image.merge('RGB', (i, img_zero, img_zero)) # in this variant will be easy to encode\n",
    "    img.save('redflower.bmp') # (!) important to use bmp; jpg does some image conversion while saving\n",
    "    # other options to save are, e.g.:      scipy.misc.toimage(numpytable, cmin=0, cmax=255).save(stringfilename) \n",
    "    \n",
    "makered()\n",
    "\n",
    "def decode(file_name):\n",
    "    i = Image.open(file_name)\n",
    "    i = np.array(i)\n",
    "    blue= i[:,:, 2]\n",
    "    mask = np.nonzero(blue)\n",
    "    text = blue[mask]\n",
    "    text = [chr(i) for i in text]\n",
    "    print(\"\".join(text))\n",
    "\n",
    "def encode(input_file, text, output_file):\n",
    "    i = Image.open(input_file)\n",
    "    i = np.array(i)\n",
    "    blue = i[:,:, 2]\n",
    "    text_encoded = [ord(j) for j in text]\n",
    "    length = len(text_encoded)\n",
    "    blue[7, 10:10+length] = text_encoded #a fixed place to store hidden messages\n",
    "    encoded_img = np.stack((i[:,:,0], i[:,:,1], blue), axis=2)\n",
    "    final_img = Image.fromarray(encoded_img)\n",
    "    final_img.save(output_file)\n",
    "\n",
    "\n",
    "decode('crypto.bmp')\n",
    "encode(\"redflower.bmp\", \"This is a hidden message :)\", \"encoded.bmp\")\n",
    "\n",
    "decode(\"encoded.bmp\")"
   ]
  }
 ],
 "metadata": {
  "kernelspec": {
   "display_name": "Python 3",
   "language": "python",
   "name": "python3"
  },
  "language_info": {
   "codemirror_mode": {
    "name": "ipython",
    "version": 3
   },
   "file_extension": ".py",
   "mimetype": "text/x-python",
   "name": "python",
   "nbconvert_exporter": "python",
   "pygments_lexer": "ipython3",
   "version": "3.10.0"
  }
 },
 "nbformat": 4,
 "nbformat_minor": 4
}
